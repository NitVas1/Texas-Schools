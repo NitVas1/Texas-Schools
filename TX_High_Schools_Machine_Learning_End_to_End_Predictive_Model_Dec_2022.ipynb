{
  "nbformat": 4,
  "nbformat_minor": 0,
  "metadata": {
    "colab": {
      "provenance": [],
      "include_colab_link": true
    },
    "kernelspec": {
      "name": "python3",
      "display_name": "Python 3"
    },
    "language_info": {
      "name": "python"
    }
  },
  "cells": [
    {
      "cell_type": "markdown",
      "metadata": {
        "id": "view-in-github",
        "colab_type": "text"
      },
      "source": [
        "<a href=\"https://colab.research.google.com/github/NitVas1/Texas-Schools/blob/main/TX_High_Schools_Machine_Learning_End_to_End_Predictive_Model_Dec_2022.ipynb\" target=\"_parent\"><img src=\"https://colab.research.google.com/assets/colab-badge.svg\" alt=\"Open In Colab\"/></a>"
      ]
    },
    {
      "cell_type": "code",
      "source": [
        "# Code snippet 0\n",
        "# Installing AI based ML package\n",
        "!pip install -U --pre pycaret"
      ],
      "metadata": {
        "id": "mh8cWqHu2FTh"
      },
      "execution_count": null,
      "outputs": []
    },
    {
      "cell_type": "code",
      "execution_count": null,
      "metadata": {
        "id": "HtiHaAIfYxCf"
      },
      "outputs": [],
      "source": [
        "# Code snippet 1\n",
        "# Importing the basic Data Science packages\n",
        "import numpy as np\n",
        "import pandas as pd"
      ]
    },
    {
      "cell_type": "code",
      "source": [
        "# Code snippet 2\n",
        "# Reading the file from the Web dataserver URL\n",
        "url = 'https://raw.githubusercontent.com/nvamsimohan/DallasDSA/main/2021%20Texas%20High%20Schools%20Scores.csv'"
      ],
      "metadata": {
        "id": "RpfcruswZist"
      },
      "execution_count": null,
      "outputs": []
    },
    {
      "cell_type": "code",
      "source": [
        "# Code snippet 3\n",
        "# Using Pandas package to read the csv file\n",
        "df = pd.read_csv(url)"
      ],
      "metadata": {
        "id": "vJALRNssLYCx"
      },
      "execution_count": null,
      "outputs": []
    },
    {
      "cell_type": "code",
      "source": [
        "# Code snippet 4\n",
        "# Displaying the data size\n",
        "df.shape"
      ],
      "metadata": {
        "id": "XxoPXPhuLZuZ"
      },
      "execution_count": null,
      "outputs": []
    },
    {
      "cell_type": "code",
      "source": [
        "# Code snippet 4.1\n",
        "# Displaying the column names\n",
        "df.columns   "
      ],
      "metadata": {
        "id": "ZZ9tV2RE3JLP"
      },
      "execution_count": null,
      "outputs": []
    },
    {
      "cell_type": "code",
      "source": [
        "# Code snippet 4.2\n",
        "# Displaying the null values in each column\n",
        "df.isnull().sum()"
      ],
      "metadata": {
        "id": "RaSsv76ecm8A"
      },
      "execution_count": null,
      "outputs": []
    },
    {
      "cell_type": "code",
      "source": [
        "# Code snippet 5\n",
        "# School name, URLs and phone features are ignored from analysis\n",
        "# Home Prices Ranking, Community Health Ranking ignored from the analysis due\n",
        "# to high missing proportion of data\n",
        "cols = ['District', 'City', \n",
        "       'Zip', 'County', 'Is Title I', 'Is Charter', 'Is Magnet',\n",
        "       'Is Virtual', 'Number Students', 'Number Full-time Teachers',\n",
        "       'Student/Teacher Ratio', 'Percent Free/Disc Lunch',\n",
        "       'Percent Homes Rented', 'Percent of Unemployment',\n",
        "       'Percent Parents with Masters and above education',\n",
        "       'Percent parents with less than High School education',\n",
        "       'Percent Home Incomes with less than Median income',\n",
        "        'Standard Score']\n",
        "df1 = df[cols]\n",
        "df1.columns"
      ],
      "metadata": {
        "id": "5EvlfJqnZqtU"
      },
      "execution_count": null,
      "outputs": []
    },
    {
      "cell_type": "code",
      "source": [
        "df1.shape"
      ],
      "metadata": {
        "id": "MWEIL2WwuE4U"
      },
      "execution_count": null,
      "outputs": []
    },
    {
      "cell_type": "code",
      "source": [
        "# Code snippet 6\n",
        "# Importing all Regression ML libraries\n",
        "from pycaret.regression import *"
      ],
      "metadata": {
        "id": "4NuffbVLacdf"
      },
      "execution_count": null,
      "outputs": []
    },
    {
      "cell_type": "code",
      "source": [
        "# Code snippet 7\n",
        "# Setting all categorical features to one variable\n",
        "cat_cols = ['District', 'City', 'Zip', 'County', 'Is Title I', 'Is Charter',\n",
        "       'Is Magnet', 'Is Virtual']"
      ],
      "metadata": {
        "id": "B2T6NHn0aHDl"
      },
      "execution_count": null,
      "outputs": []
    },
    {
      "cell_type": "code",
      "source": [
        "# Code snippet 8\n",
        "# Setting all numerical features to one variable\n",
        "num_cols = ['Number Students',\n",
        "       'Number Full-time Teachers', 'Student/Teacher Ratio',\n",
        "       'Percent Free/Disc Lunch', 'Percent Homes Rented',\n",
        "       'Percent of Unemployment',\n",
        "       'Percent Parents with Masters and above education',\n",
        "       'Percent parents with less than High School education',\n",
        "       'Percent Home Incomes with less than Median income']"
      ],
      "metadata": {
        "id": "kR--L3suMQ80"
      },
      "execution_count": null,
      "outputs": []
    },
    {
      "cell_type": "code",
      "source": [
        "# Code snippet 9\n",
        "# Setting up the regression model using Pycaret - passing the categorical and numerical variables\n",
        "regression_model_setup = setup(df1, target = 'Standard Score', categorical_features= cat_cols,\n",
        "      numeric_features = num_cols, train_size = 0.8)"
      ],
      "metadata": {
        "id": "ClbHtQnebEtv"
      },
      "execution_count": null,
      "outputs": []
    },
    {
      "cell_type": "code",
      "source": [
        "# Code snippet 10\n",
        "# Running the Pycaret AutoML process with a time-out parameter\n",
        "compare_models(budget_time = 30)"
      ],
      "metadata": {
        "id": "JBOXgnmacV-2"
      },
      "execution_count": null,
      "outputs": []
    },
    {
      "cell_type": "code",
      "source": [
        "# Code snippet 11\n",
        "# Creating a ML model using the best algorithm\n",
        "model = create_model('gbr')"
      ],
      "metadata": {
        "id": "o2JSm7D3vV0g"
      },
      "execution_count": null,
      "outputs": []
    },
    {
      "cell_type": "code",
      "source": [
        "# Code snippet 12\n",
        "# Predicting the Standard Scores using the best ML model\n",
        "predictions = predict_model(model, data = df)"
      ],
      "metadata": {
        "id": "G6F84Ow90qI4"
      },
      "execution_count": null,
      "outputs": []
    },
    {
      "cell_type": "code",
      "source": [
        "# Code snippet 13\n",
        "# Converting the predictions to a csv file to send it to client\n",
        "predictions.to_csv(\"TX School Standard Score Predictions.csv\")"
      ],
      "metadata": {
        "id": "KvfO7U0wNUXX"
      },
      "execution_count": null,
      "outputs": []
    },
    {
      "cell_type": "code",
      "source": [
        "# Code snippet 14\n",
        "# Getting the client data from the web server URL (this is the dataset client gives us to predict the standatrd scores on new schools)\n",
        "client_data_url = 'https://raw.githubusercontent.com/nvamsimohan/DallasDSA/main/TX%20High%20Schools%20-%20Client%20Data.csv'\n",
        "client_data = pd.read_csv(client_data_url)"
      ],
      "metadata": {
        "id": "JqIHypANI3G-"
      },
      "execution_count": null,
      "outputs": []
    },
    {
      "cell_type": "code",
      "source": [
        "# Code snippet 15\n",
        "# Displaying how many schools are in client data for which the predictions to be made \n",
        "client_data.shape"
      ],
      "metadata": {
        "id": "LY-HLcHNJMMp"
      },
      "execution_count": null,
      "outputs": []
    },
    {
      "cell_type": "code",
      "source": [
        "# Code snippet 16\n",
        "# Predicting the Standard Scores using the best ML model we built for the client data file\n",
        "client_data_predictions = predict_model(model, data = client_data)"
      ],
      "metadata": {
        "id": "gGIsnC6xJXi3"
      },
      "execution_count": null,
      "outputs": []
    },
    {
      "cell_type": "code",
      "source": [
        "# Code snippet 17\n",
        "# Appending the predicted standard scores column to the client data file\n",
        "client_data['Predicted Standard Score']  = client_data_predictions['prediction_label']"
      ],
      "metadata": {
        "id": "NBqkEAtXKQKB"
      },
      "execution_count": null,
      "outputs": []
    },
    {
      "cell_type": "code",
      "source": [
        "# Code snippet 18\n",
        "# Converting the predictions to a csv file to send it to client\n",
        "client_data.to_csv(\"Client TX Schools Standard Score Predictions1.csv\")"
      ],
      "metadata": {
        "id": "XATxtMcxIvVu"
      },
      "execution_count": null,
      "outputs": []
    }
  ]
}